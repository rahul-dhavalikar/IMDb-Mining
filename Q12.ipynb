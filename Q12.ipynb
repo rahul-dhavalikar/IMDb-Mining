{
 "cells": [
  {
   "cell_type": "markdown",
   "metadata": {},
   "source": [
    "### INITIALIZE AND LOAD STUFF"
   ]
  },
  {
   "cell_type": "code",
   "execution_count": 82,
   "metadata": {},
   "outputs": [],
   "source": [
    "# import sys\n",
    "# reload(sys)\n",
    "# sys.setdefaultencoding('utf-8')\n",
    "import math\n",
    "import time\n",
    "from sklearn.metrics import mean_squared_error\n"
   ]
  },
  {
   "cell_type": "code",
   "execution_count": 1,
   "metadata": {},
   "outputs": [],
   "source": [
    "movieRatingFile = \"movie_rating.txt\""
   ]
  },
  {
   "cell_type": "code",
   "execution_count": 2,
   "metadata": {},
   "outputs": [],
   "source": [
    "with open(movieRatingFile) as f:\n",
    "    movieRatingContent = f.readlines()"
   ]
  },
  {
   "cell_type": "code",
   "execution_count": 3,
   "metadata": {},
   "outputs": [
    {
     "data": {
      "text/plain": [
       "348547"
      ]
     },
     "execution_count": 3,
     "metadata": {},
     "output_type": "execute_result"
    }
   ],
   "source": [
    "len(movieRatingContent)"
   ]
  },
  {
   "cell_type": "code",
   "execution_count": 4,
   "metadata": {},
   "outputs": [
    {
     "name": "stdout",
     "output_type": "stream",
     "text": [
      "Bamma Maata Bangaru Baata (1990)\t\t7.5\r\n",
      "\n",
      "The 61st Annual Golden Globe Awards (2004)\t\t5.1\r\n",
      "\n",
      "Con la m�sica a otra parte (1975)\t\t3.4\r\n",
      "\n"
     ]
    }
   ],
   "source": [
    "for i in range(0,3):\n",
    "    print(movieRatingContent[i])"
   ]
  },
  {
   "cell_type": "code",
   "execution_count": 5,
   "metadata": {},
   "outputs": [
    {
     "data": {
      "text/plain": [
       "'Con la m\\xfasica a otra parte (1975)'"
      ]
     },
     "execution_count": 5,
     "metadata": {},
     "output_type": "execute_result"
    }
   ],
   "source": [
    "(movieRatingContent[2].split(\"\\t\\t\")[0])"
   ]
  },
  {
   "cell_type": "code",
   "execution_count": 6,
   "metadata": {},
   "outputs": [],
   "source": [
    "movieRatingMap2 = dict()\n",
    "for i in range(0,len(movieRatingContent)):\n",
    "    mList = movieRatingContent[i].split(\"\\t\\t\")\n",
    "    movieRatingMap2[str(mList[0]).strip()] = float(mList[1])"
   ]
  },
  {
   "cell_type": "code",
   "execution_count": 7,
   "metadata": {},
   "outputs": [
    {
     "name": "stdout",
     "output_type": "stream",
     "text": [
      "348545\n"
     ]
    }
   ],
   "source": [
    "print(len(movieRatingMap2))\n",
    "# print(movieRatingMap2)"
   ]
  },
  {
   "cell_type": "code",
   "execution_count": 449,
   "metadata": {},
   "outputs": [],
   "source": [
    "# movieMap = dict()\n",
    "# with open('movieMap_v.csv') as csvfile:\n",
    "#     reader = csv.DictReader(csvfile)\n",
    "\n",
    "#     for row in reader:\n",
    "#         movieMap[str(row['Movie'])] = int(row['ID'])"
   ]
  },
  {
   "cell_type": "code",
   "execution_count": 451,
   "metadata": {},
   "outputs": [],
   "source": [
    "# actorMap = dict()\n",
    "# with open('actorMap_v2.csv') as csvfile:\n",
    "#     reader = csv.DictReader(csvfile)\n",
    "\n",
    "#     for row in reader:\n",
    "#         actorMap[str(row['Actor'])] = int(row['ID'])\n",
    "# nActors = len(actorMap)"
   ]
  },
  {
   "cell_type": "code",
   "execution_count": 8,
   "metadata": {},
   "outputs": [],
   "source": [
    "import pickle \n",
    "movieActors = pickle.load( open( \"movieActors_v10.pickle\", \"rb\" ) )"
   ]
  },
  {
   "cell_type": "code",
   "execution_count": 9,
   "metadata": {},
   "outputs": [],
   "source": [
    "actorMovies = pickle.load( open( \"actorMovies_v10.pickle\", \"rb\" ) )"
   ]
  },
  {
   "cell_type": "code",
   "execution_count": 10,
   "metadata": {},
   "outputs": [],
   "source": [
    "actorMap = pickle.load( open( \"actorMap_v10.pickle\", \"rb\" ) )"
   ]
  },
  {
   "cell_type": "code",
   "execution_count": 11,
   "metadata": {},
   "outputs": [],
   "source": [
    "movieMap = pickle.load( open( \"movieMap_v10.pickle\", \"rb\" ) )"
   ]
  },
  {
   "cell_type": "code",
   "execution_count": 12,
   "metadata": {},
   "outputs": [],
   "source": [
    "genreMap = pickle.load( open( \"genreMap_v10.pickle\", \"rb\" ) )"
   ]
  },
  {
   "cell_type": "code",
   "execution_count": 13,
   "metadata": {},
   "outputs": [
    {
     "name": "stdout",
     "output_type": "stream",
     "text": [
      "29\n",
      "[u'Sci-Fi', u'Crime', u'Romance', u'Animation', u'Music', u'Comedy', u'War', u'Horror', u'Film-Noir', u'Adventure', u'News', u'Erotica', u'Western', u'Thriller', u'Adult', u'Mystery', u'Short', u'Talk-Show', u'Drama', u'Action', u'Documentary', u'Musical', u'History', u'Family', u'Reality-TV', u'Fantasy', u'Game-Show', u'Sport', u'Biography']\n"
     ]
    }
   ],
   "source": [
    "genreList = list(set(genreMap.values()))\n",
    "print(len(genreList))\n",
    "print(genreList)"
   ]
  },
  {
   "cell_type": "code",
   "execution_count": 168,
   "metadata": {},
   "outputs": [
    {
     "ename": "ValueError",
     "evalue": "'abcd' is not in list",
     "output_type": "error",
     "traceback": [
      "\u001b[0;31m---------------------------------------------------------------------------\u001b[0m",
      "\u001b[0;31mValueError\u001b[0m                                Traceback (most recent call last)",
      "\u001b[0;32m<ipython-input-168-aaa1c3b211df>\u001b[0m in \u001b[0;36m<module>\u001b[0;34m()\u001b[0m\n\u001b[0;32m----> 1\u001b[0;31m \u001b[0mgenreList\u001b[0m\u001b[0;34m.\u001b[0m\u001b[0mindex\u001b[0m\u001b[0;34m(\u001b[0m\u001b[0;34m\"abcd\"\u001b[0m\u001b[0;34m)\u001b[0m\u001b[0;34m\u001b[0m\u001b[0m\n\u001b[0m",
      "\u001b[0;31mValueError\u001b[0m: 'abcd' is not in list"
     ]
    }
   ],
   "source": [
    "genreList.index(\"abcd\")"
   ]
  },
  {
   "cell_type": "code",
   "execution_count": 14,
   "metadata": {},
   "outputs": [],
   "source": [
    "movieIDMap = dict()\n",
    "\n",
    "for movie in movieMap:\n",
    "    movieIDMap[int(movieMap[movie])] = movie"
   ]
  },
  {
   "cell_type": "code",
   "execution_count": 15,
   "metadata": {},
   "outputs": [],
   "source": [
    "actorIDMap = dict()\n",
    "nActors = len(actorMap)\n",
    "for actor in actorMap:\n",
    "    actorIDMap[int(actorMap[actor])] = actor"
   ]
  },
  {
   "cell_type": "code",
   "execution_count": 16,
   "metadata": {},
   "outputs": [
    {
     "name": "stdout",
     "output_type": "stream",
     "text": [
      "113110\n",
      "113110\n"
     ]
    }
   ],
   "source": [
    "print(len(actorMap))\n",
    "print(len(actorIDMap))"
   ]
  },
  {
   "cell_type": "code",
   "execution_count": 15,
   "metadata": {},
   "outputs": [
    {
     "name": "stdout",
     "output_type": "stream",
     "text": [
      "1\n",
      "2\n",
      "3\n",
      "4\n",
      "5\n",
      "6\n",
      "7\n",
      "8\n",
      "9\n",
      "10\n"
     ]
    }
   ],
   "source": [
    "i=0\n",
    "for k in actorIDMap:\n",
    "    if(i==10):\n",
    "        break\n",
    "    print(k)\n",
    "    i+=1\n",
    "    "
   ]
  },
  {
   "cell_type": "code",
   "execution_count": 16,
   "metadata": {},
   "outputs": [
    {
     "name": "stdout",
     "output_type": "stream",
     "text": [
      "set([1, 2, 3, 4, 5, 6, 7, 8, 9, 10, 11, 12])\n",
      "set([32, 13, 14, 15, 16, 17, 18, 19, 20, 21, 22, 23, 24, 25, 26, 27, 28, 29, 30, 31])\n",
      "set([33, 34, 35, 36, 37, 38, 39, 40, 41, 42, 43, 44, 45, 46, 47, 48, 49, 50, 51, 52, 53, 54, 55, 56, 57, 58, 59, 60, 61, 62, 63, 64, 65, 66, 67, 68, 69, 70, 71])\n",
      "set([72, 73, 74, 75, 76, 77, 78, 79, 80, 81, 82, 83, 84, 85, 86, 87, 88, 89, 90])\n",
      "set([91, 92, 93, 94, 95, 96, 97, 98, 99, 100, 101, 102, 103, 104, 105, 106, 107, 108, 109, 110, 111, 112, 113, 114, 115, 116, 117, 118, 119, 120, 121, 122, 123, 124])\n",
      "set([128, 129, 130, 131, 132, 133, 134, 135, 136, 137, 125, 126, 127])\n",
      "set([138, 139, 140, 141, 142, 143, 144, 145, 146, 147, 148, 149, 150, 151])\n",
      "set([160, 161, 162, 163, 164, 165, 152, 153, 154, 155, 156, 157, 158, 159])\n",
      "set([166, 167, 168, 169, 170, 171, 172, 173, 174, 175, 176, 177, 178, 179, 180, 181, 182, 183, 184, 185, 186, 187, 188, 189])\n",
      "set([190, 191, 192, 193, 194, 195, 196, 197, 198, 199, 200, 201, 202, 203, 204, 205, 206, 207, 208, 209, 210, 211])\n"
     ]
    }
   ],
   "source": [
    "i=0\n",
    "for k in actorMovies:\n",
    "    if(i==10):\n",
    "        break\n",
    "    print(actorMovies[k])\n",
    "    i+=1\n",
    "    "
   ]
  },
  {
   "cell_type": "markdown",
   "metadata": {},
   "source": [
    "### ACTUAL CODE"
   ]
  },
  {
   "cell_type": "code",
   "execution_count": 77,
   "metadata": {},
   "outputs": [],
   "source": [
    "from sklearn.linear_model import LinearRegression\n",
    "from sklearn.ensemble import RandomForestRegressor\n",
    "from sklearn.neural_network import MLPRegressor\n",
    "from sklearn.neighbors import KNeighborsRegressor\n",
    "\n",
    "def getModel(modelName, arg=None):\n",
    "    model = None\n",
    "    if modelName == 'LinearRegression':\n",
    "        model = LinearRegression()\n",
    "               \n",
    "    if modelName == 'RandomForestRegressor':\n",
    "        model = RandomForestRegressor(n_estimators=arg[0], max_depth=arg[1], max_features=arg[2], oob_score=True, random_state=0)\n",
    "    \n",
    "    if modelName == 'MLPRegressor':\n",
    "        model = MLPRegressor(activation=arg[0], solver='lbfgs', alpha=1e-5, hidden_layer_sizes=(arg[1],), random_state=1)\n",
    "        \n",
    "    if modelName == 'KNeighborsRegressor':\n",
    "        model = KNeighborsRegressor(n_neighbors=arg[0])\n",
    "        \n",
    "        \n",
    "    return model"
   ]
  },
  {
   "cell_type": "code",
   "execution_count": 78,
   "metadata": {},
   "outputs": [],
   "source": [
    "import re\n",
    "movieYearRegex = '([0-9]{4})'\n",
    "#movieCleaningRE_string = '.*\\\\((([0-9]{4}(\\\\/[aA-zZ]*){0,1})|(\\\\?+))\\\\)'\n",
    "movieYearRegexObj = re.compile(movieYearRegex)"
   ]
  },
  {
   "cell_type": "code",
   "execution_count": 79,
   "metadata": {},
   "outputs": [
    {
     "name": "stdout",
     "output_type": "stream",
     "text": [
      "1993\n"
     ]
    }
   ],
   "source": [
    "print(movieYearRegexObj.search(\"Zoom, Zoom, (23)perman! (1993)\").group(0))"
   ]
  },
  {
   "cell_type": "code",
   "execution_count": 80,
   "metadata": {},
   "outputs": [],
   "source": [
    "from sklearn.preprocessing import StandardScaler\n",
    "\n",
    "def extract_features_labels(movieRatingMap):\n",
    "    X = list()\n",
    "    Y = list()\n",
    "    Z = list()\n",
    "    for mId in movieRatingMap.iterkeys():\n",
    "        featureVector = list()\n",
    "        \n",
    "        mName = str(movieRatingMap[mId][MNAME])\n",
    "        \n",
    "#         nameLength = len(movieRatingMap[mId][MNAME])\n",
    "#         featureVector.extend([nameLength])\n",
    "        \n",
    "        mYear = movieYearRegexObj.search(mName)\n",
    "        if mYear is None:\n",
    "            featureVector.extend([0])\n",
    "        else:\n",
    "            featureVector.extend([int(mYear.group(0))])\n",
    "            \n",
    "        \n",
    "        actorFeat = [0]*nActors\n",
    "        mActors = movieActors[int(mId)]\n",
    "        for idx in mActors:\n",
    "            actorFeat[idx] = 1\n",
    "        mNumberActors = len(mActors)\n",
    "        \n",
    "        featureVector.extend([mNumberActors])\n",
    "        featureVector.extend(actorFeat)\n",
    "        \n",
    "        if mName in genreMap:\n",
    "            mGenreId = genreList.index(genreMap[mName])\n",
    "        else:\n",
    "            mGenreId = -1\n",
    "        featureVector.extend([mGenreId])\n",
    "                \n",
    "        X.append(featureVector)\n",
    "        Y.append(movieRatingMap[mId][MRATING])\n",
    "        Z.append(mId)\n",
    "    \n",
    "    scaler = StandardScaler()\n",
    "    Xnew = scaler.fit_transform(X)\n",
    "    \n",
    "    return Xnew, Y, Z"
   ]
  },
  {
   "cell_type": "code",
   "execution_count": 17,
   "metadata": {},
   "outputs": [
    {
     "name": "stdout",
     "output_type": "stream",
     "text": [
      "{48394: {'movieRating': 7.4, 'movieName': 'Mission: Impossible - Rogue Nation (2015)'}, 12651: {'movieRating': 6.6, 'movieName': 'Batman v Superman: Dawn of Justice (2016)'}, 100844: {'movieRating': 6.4, 'movieName': 'Minions (2015)'}}\n"
     ]
    }
   ],
   "source": [
    "testMovieRatingMap = dict()\n",
    "MNAME = \"movieName\"\n",
    "MRATING = \"movieRating\"\n",
    "# movieMapNameList = movieMap.keys()\n",
    "testMovies = [\\\n",
    "              [\"Batman v Superman: Dawn of Justice (2016)\", 6.6],\\\n",
    "              [\"Mission: Impossible - Rogue Nation (2015)\", 7.4],\\\n",
    "              [\"Minions (2015)\", 6.4]\\\n",
    "             ]\n",
    "for i in range(0, 3):\n",
    "    mList = testMovies[i]\n",
    "    movieName = str(mList[0])\n",
    "    if movieName in movieMap:\n",
    "        movieId = movieMap[movieName]\n",
    "        testMovieRatingMap[movieId] = dict()\n",
    "        testMovieRatingMap[movieId][MNAME] = movieName\n",
    "        movieRating = float(mList[1])\n",
    "        testMovieRatingMap[movieId][MRATING] = movieRating\n",
    "print(testMovieRatingMap)  "
   ]
  },
  {
   "cell_type": "code",
   "execution_count": 176,
   "metadata": {},
   "outputs": [
    {
     "name": "stderr",
     "output_type": "stream",
     "text": [
      "/Users/rahul/virtualenvs/titleanalysis/lib/python2.7/site-packages/ipykernel_launcher.py:13: UnicodeWarning: Unicode equal comparison failed to convert both arguments to Unicode - interpreting them as being unequal\n",
      "  del sys.path[0]\n"
     ]
    },
    {
     "name": "stdout",
     "output_type": "stream",
     "text": [
      "0.876392126083\n"
     ]
    }
   ],
   "source": [
    "import time\n",
    "startTime = time.time()\n",
    "movieRatingMap = dict()\n",
    "MNAME = \"movieName\"\n",
    "MRATING = \"movieRating\"\n",
    "mcount = 0\n",
    "# movieMapNameList = movieMap.keys()\n",
    "smallmovieList = {k: movieRatingMap2[k] for k in sorted(movieRatingMap2.keys())[:20000]}\n",
    "# TODO: REMOVE TARGET MOVIE NAMES FROM THIS ABOVE LIST\n",
    "for mName in smallmovieList:\n",
    "#     mList = movieRatingContent[i].split(\"\\t\\t\")\n",
    "    movieName = str(mName)\n",
    "    if movieName in movieMap:\n",
    "        movieId = movieMap[movieName]\n",
    "        movieRatingMap[movieId] = dict()\n",
    "        movieRatingMap[movieId][MNAME] = movieName\n",
    "        movieRating = float(smallmovieList[mName])\n",
    "        movieRatingMap[movieId][MRATING] = movieRating\n",
    "\n",
    "        mcount+=1\n",
    "\n",
    "endTime = time.time()\n",
    "print(endTime-startTime)"
   ]
  },
  {
   "cell_type": "code",
   "execution_count": 177,
   "metadata": {},
   "outputs": [],
   "source": [
    "with open(\"movieRatingMap.pickle\", 'wb') as pickle_file:\n",
    "    pickle.dump(movieRatingMap, pickle_file, protocol=2)"
   ]
  },
  {
   "cell_type": "code",
   "execution_count": 178,
   "metadata": {},
   "outputs": [
    {
     "name": "stdout",
     "output_type": "stream",
     "text": [
      "(20000, 10409)\n"
     ]
    }
   ],
   "source": [
    "print(len(smallmovieList), len(movieRatingMap))"
   ]
  },
  {
   "cell_type": "code",
   "execution_count": 18,
   "metadata": {},
   "outputs": [],
   "source": [
    "movieRatingMap = pickle.load( open( \"movieRatingMap.pickle\", \"rb\" ) )"
   ]
  },
  {
   "cell_type": "code",
   "execution_count": 19,
   "metadata": {},
   "outputs": [
    {
     "name": "stdout",
     "output_type": "stream",
     "text": [
      "10409\n"
     ]
    }
   ],
   "source": [
    "print(len(movieRatingMap))"
   ]
  },
  {
   "cell_type": "code",
   "execution_count": 20,
   "metadata": {},
   "outputs": [],
   "source": [
    "# trainMovieRatingMap = {k: movieRatingMap[k] for k in sorted(movieRatingMap.keys())}\n",
    "trainMovieRatingMap = movieRatingMap"
   ]
  },
  {
   "cell_type": "code",
   "execution_count": 21,
   "metadata": {},
   "outputs": [
    {
     "name": "stdout",
     "output_type": "stream",
     "text": [
      "10409\n"
     ]
    }
   ],
   "source": [
    "print(len(trainMovieRatingMap))"
   ]
  },
  {
   "cell_type": "code",
   "execution_count": 37,
   "metadata": {},
   "outputs": [],
   "source": [
    "X, Y, Z = extract_features_labels(trainMovieRatingMap)"
   ]
  },
  {
   "cell_type": "code",
   "execution_count": 38,
   "metadata": {},
   "outputs": [
    {
     "name": "stdout",
     "output_type": "stream",
     "text": [
      "(10409, 113113)\n"
     ]
    }
   ],
   "source": [
    "print(len(X),len(X[0]))"
   ]
  },
  {
   "cell_type": "code",
   "execution_count": 39,
   "metadata": {},
   "outputs": [
    {
     "name": "stdout",
     "output_type": "stream",
     "text": [
      "555.141471863\n"
     ]
    }
   ],
   "source": [
    "import numpy as np\n",
    "from sklearn.decomposition import PCA\n",
    "startTime = time.time()\n",
    "\n",
    "pca = PCA(n_components=200)\n",
    "Xpca = pca.fit_transform(X)\n",
    "# print(pca.explained_variance_ratio_)  \n",
    "endTime = time.time()\n",
    "print(endTime-startTime)"
   ]
  },
  {
   "cell_type": "code",
   "execution_count": 40,
   "metadata": {},
   "outputs": [],
   "source": [
    "XTest, YTest, ZTest = extract_features_labels(testMovieRatingMap)\n",
    "XTest = pca.transform(XTest)"
   ]
  },
  {
   "cell_type": "code",
   "execution_count": 41,
   "metadata": {},
   "outputs": [
    {
     "name": "stdout",
     "output_type": "stream",
     "text": [
      "(10409, 200)\n"
     ]
    }
   ],
   "source": [
    "print(len(Xpca),len(Xpca[0]))"
   ]
  },
  {
   "cell_type": "code",
   "execution_count": 42,
   "metadata": {},
   "outputs": [],
   "source": [
    "with open(\"Xpca.pickle\", 'wb') as pickle_file:\n",
    "    pickle.dump(Xpca, pickle_file, protocol=2)\n",
    "with open(\"Y.pickle\", 'wb') as pickle_file:\n",
    "    pickle.dump(Y, pickle_file, protocol=2)\n",
    "with open(\"Z.pickle\", 'wb') as pickle_file:\n",
    "    pickle.dump(Z, pickle_file, protocol=2)\n",
    "    \n",
    "with open(\"XTest.pickle\", 'wb') as pickle_file:\n",
    "    pickle.dump(XTest, pickle_file, protocol=2)\n",
    "with open(\"YTest.pickle\", 'wb') as pickle_file:\n",
    "    pickle.dump(YTest, pickle_file, protocol=2)\n",
    "with open(\"ZTest.pickle\", 'wb') as pickle_file:\n",
    "    pickle.dump(ZTest, pickle_file, protocol=2)\n",
    "    \n",
    "with open(\"pca.pickle\", 'wb') as pickle_file:\n",
    "    pickle.dump(pca, pickle_file, protocol=2)\n",
    "    \n"
   ]
  },
  {
   "cell_type": "code",
   "execution_count": 73,
   "metadata": {},
   "outputs": [],
   "source": [
    "Xpca = pickle.load( open( \"Xpca.pickle\", \"rb\" ) )\n",
    "Y = pickle.load( open( \"Y.pickle\", \"rb\" ) )\n",
    "Z = pickle.load( open( \"Z.pickle\", \"rb\" ) )\n",
    "\n",
    "XTest = pickle.load( open( \"XTest.pickle\", \"rb\" ) )\n",
    "YTest = pickle.load( open( \"YTest.pickle\", \"rb\" ) )\n",
    "ZTest = pickle.load( open( \"ZTest.pickle\", \"rb\" ) )\n",
    "\n",
    "pca = pickle.load( open( \"pca.pickle\", \"rb\" ) )\n"
   ]
  },
  {
   "cell_type": "code",
   "execution_count": 74,
   "metadata": {},
   "outputs": [
    {
     "name": "stdout",
     "output_type": "stream",
     "text": [
      "(10409, 200)\n"
     ]
    }
   ],
   "source": [
    "print(len(Xpca),len(Xpca[0]))"
   ]
  },
  {
   "cell_type": "code",
   "execution_count": 83,
   "metadata": {},
   "outputs": [
    {
     "name": "stdout",
     "output_type": "stream",
     "text": [
      "1.32280578063\n",
      "0.192425012589\n"
     ]
    },
    {
     "name": "stderr",
     "output_type": "stream",
     "text": [
      "/Users/rahul/virtualenvs/titleanalysis/lib/python2.7/site-packages/scipy/linalg/basic.py:1226: RuntimeWarning: internal gelsd driver lwork query error, required iwork dimension not returned. This is likely the result of LAPACK bug 0038, fixed in LAPACK 3.2.2 (released July 21, 2010). Falling back to 'gelss' driver.\n",
      "  warnings.warn(mesg, RuntimeWarning)\n"
     ]
    }
   ],
   "source": [
    "startTime = time.time()\n",
    "modelName = \"LinearRegression\"\n",
    "arg = []\n",
    "\n",
    "XTrain = Xpca\n",
    "YTrain = Y\n",
    "\n",
    "lrModel = getModel(modelName, arg)\n",
    "lrModel.fit(XTrain, YTrain)\n",
    "prediction = lrModel.predict(XTrain)\n",
    "\n",
    "trainMse = math.sqrt(mean_squared_error(YTrain, prediction))\n",
    "endTime = time.time()\n",
    "\n",
    "print(trainMse)\n",
    "print(endTime-startTime)"
   ]
  },
  {
   "cell_type": "code",
   "execution_count": 84,
   "metadata": {},
   "outputs": [
    {
     "name": "stdout",
     "output_type": "stream",
     "text": [
      "[48394, 12651, 100844]\n",
      "[ 6.16254497  6.15912356  6.15953043]\n",
      "0.771036663178\n"
     ]
    }
   ],
   "source": [
    "testPrediction = lrModel.predict(XTest)\n",
    "testMSE = math.sqrt(mean_squared_error(YTest, testPrediction))\n",
    "print(ZTest)\n",
    "print(testPrediction)\n",
    "print(testMSE)"
   ]
  },
  {
   "cell_type": "code",
   "execution_count": 101,
   "metadata": {},
   "outputs": [
    {
     "name": "stdout",
     "output_type": "stream",
     "text": [
      "('\\nArg: ', [5])\n",
      "\tTRAINING\n",
      "1.12330689837\n",
      "25.5399091244\n",
      "\tTESTING\n",
      "[ 5.74  4.6   5.58]\n",
      "1.57353106102\n",
      "('\\nArg: ', [10])\n",
      "\tTRAINING\n",
      "1.19553390423\n",
      "54.0334119797\n",
      "\tTESTING\n",
      "[ 6.21  5.72  5.69]\n",
      "0.947734139936\n",
      "('\\nArg: ', [15])\n",
      "\tTRAINING\n",
      "1.22224813387\n",
      "84.4872601032\n",
      "\tTESTING\n",
      "[ 6.32        5.84666667  6.14      ]\n",
      "0.774921740374\n",
      "('\\nArg: ', [20])\n",
      "\tTRAINING\n",
      "1.23575427089\n",
      "114.812529087\n",
      "\tTESTING\n",
      "[ 6.205  6.005  6.375]\n",
      "0.770859909452\n",
      "('\\nArg: ', [50])\n",
      "\tTRAINING\n",
      "1.2643356502\n",
      "149.315263987\n",
      "\tTESTING\n",
      "[ 6.326  6.096  6.678]\n",
      "0.703509298683\n",
      "('\\nArg: ', [75])\n",
      "\tTRAINING\n",
      "1.27463271788\n",
      "184.49724412\n",
      "\tTESTING\n",
      "[ 6.35333333  6.284       6.49733333]\n",
      "0.633729934301\n",
      "('\\nArg: ', [100])\n",
      "\tTRAINING\n",
      "1.28245401752\n",
      "220.642864943\n",
      "\tTESTING\n",
      "[ 6.268  6.173  6.446]\n",
      "0.69901573659\n",
      "('\\nBest RMSE: ', 1.1233068983735117)\n",
      "('\\nBest Val: ', 5)\n"
     ]
    }
   ],
   "source": [
    "startTime = time.time()\n",
    "modelName = \"KNeighborsRegressor\"\n",
    "argList = [5, 10, 15, 20, 50, 75, 100]\n",
    "# argList = [5,100]\n",
    "XTrain = Xpca\n",
    "YTrain = Y\n",
    "bestKnrModel = None\n",
    "bestRMSE = float('inf')\n",
    "bestVal = -1\n",
    "\n",
    "trainRMSEList1 = list()\n",
    "testRMSEList1 = list()\n",
    "\n",
    "for val in argList:\n",
    "    arg = [val]\n",
    "    print(\"\\nArg: \",arg)\n",
    "    knrModel = getModel(modelName, arg)\n",
    "    knrModel.fit(XTrain, YTrain)\n",
    "    prediction = knrModel.predict(XTrain)\n",
    "\n",
    "    trainMse = math.sqrt(mean_squared_error(YTrain, prediction))\n",
    "    endTime = time.time()\n",
    "    \n",
    "    if trainMse < bestRMSE:\n",
    "        bestRMSE = trainMse\n",
    "        bestKnrModel = knrModel\n",
    "        bestVal = val\n",
    "    \n",
    "    print(\"\\tTRAINING\")\n",
    "    print(trainMse)\n",
    "    print(endTime-startTime)\n",
    "    \n",
    "    testPrediction = knrModel.predict(XTest)\n",
    "    testMSE = math.sqrt(mean_squared_error(YTest, testPrediction))\n",
    "    print(\"\\tTESTING\")\n",
    "    print(testPrediction)\n",
    "    print(testMSE)\n",
    "    \n",
    "    trainRMSEList1.append(trainMse)\n",
    "    testRMSEList1.append(testMSE)\n",
    "    \n",
    "#     if testMSE < bestRMSE:\n",
    "#         bestRMSE = testMSE\n",
    "#         bestKnrModel = knrModel\n",
    "#         bestVal = val\n",
    "        \n",
    "print(\"\\nBest RMSE: \",bestRMSE)\n",
    "print(\"\\nBest Val: \",bestVal)"
   ]
  },
  {
   "cell_type": "code",
   "execution_count": 102,
   "metadata": {},
   "outputs": [
    {
     "name": "stdout",
     "output_type": "stream",
     "text": [
      "[48394, 12651, 100844]\n",
      "[ 5.74  4.6   5.58]\n",
      "1.57353106102\n"
     ]
    }
   ],
   "source": [
    "testPrediction = bestKnrModel.predict(XTest)\n",
    "testMSE = math.sqrt(mean_squared_error(YTest, testPrediction))\n",
    "print(ZTest)\n",
    "print(testPrediction)\n",
    "print(testMSE)"
   ]
  },
  {
   "cell_type": "code",
   "execution_count": 103,
   "metadata": {},
   "outputs": [
    {
     "data": {
      "image/png": "[encoded data removed]",
      "text/plain": [
       "<matplotlib.figure.Figure at 0x132af7190>"
      ]
     },
     "metadata": {},
     "output_type": "display_data"
    }
   ],
   "source": [
    "import matplotlib.pyplot as plt\n",
    "\n",
    "plt.plot(argList, trainRMSEList1, label=\"Train\")\n",
    "plt.plot(argList, testRMSEList1, label=\"Test\")\n",
    "plt.legend()\n",
    "plt.xlabel(\"Number of nearest neighbors\")\n",
    "plt.ylabel(\"RMSE\")\n",
    "plt.title(\"Hyperparameter Optimization for KNeighborsRegressor\")\n",
    "plt.show()"
   ]
  },
  {
   "cell_type": "code",
   "execution_count": 94,
   "metadata": {},
   "outputs": [
    {
     "name": "stdout",
     "output_type": "stream",
     "text": [
      "('\\nArg: ', [5, None, 'auto'])\n"
     ]
    },
    {
     "name": "stderr",
     "output_type": "stream",
     "text": [
      "/Users/rahul/virtualenvs/titleanalysis/lib/python2.7/site-packages/sklearn/ensemble/forest.py:724: UserWarning: Some inputs do not have OOB scores. This probably means too few trees were used to compute any reliable oob estimates.\n",
      "  warn(\"Some inputs do not have OOB scores. \"\n"
     ]
    },
    {
     "name": "stdout",
     "output_type": "stream",
     "text": [
      "\tTRAINING\n",
      "0.672821133202\n",
      "6.42663311958\n",
      "\tTESTING\n",
      "[ 7.14  6.54  5.56]\n",
      "0.50885492366\n",
      "('\\nArg: ', [10, None, 'auto'])\n",
      "\tTRAINING\n",
      "0.598570971246\n",
      "18.8487100601\n",
      "\tTESTING\n",
      "[ 6.44  6.63  5.43]\n",
      "0.788120126208\n",
      "('\\nArg: ', [15, None, 'auto'])\n",
      "\tTRAINING\n",
      "0.569408262656\n",
      "36.9601509571\n",
      "\tTESTING\n",
      "[ 6.76        6.69333333  5.95333333]\n",
      "0.453806942147\n",
      "('\\nArg: ', [20, None, 'auto'])\n",
      "\tTRAINING\n",
      "0.554473941659\n",
      "60.9782209396\n",
      "\tTESTING\n",
      "[ 6.88  6.54  5.88]\n",
      "0.425989045243\n",
      "('\\nArg: ', [50, None, 'auto'])\n",
      "\tTRAINING\n",
      "0.529756915948\n",
      "122.102437973\n",
      "\tTESTING\n",
      "[ 6.23        6.46866667  6.15      ]\n",
      "0.694897700971\n",
      "('\\nArg: ', [75, None, 'auto'])\n",
      "\tTRAINING\n",
      "0.524097617924\n",
      "213.879512072\n",
      "\tTESTING\n",
      "[ 6.32952381  6.50777778  5.99066667]\n",
      "0.663821760823\n",
      "('\\nArg: ', [100, None, 'auto'])\n",
      "\tTRAINING\n",
      "0.522331322435\n",
      "339.332457066\n",
      "\tTESTING\n",
      "[ 6.22414286  6.43883333  6.002     ]\n",
      "0.722730635588\n",
      "('\\nBest RMSE: ', 0.5223313224348062)\n",
      "('\\nBest Val: ', 100)\n"
     ]
    }
   ],
   "source": [
    "from sklearn.metrics import mean_squared_error\n",
    "import time\n",
    "startTime = time.time()\n",
    "modelName = \"RandomForestRegressor\"\n",
    "argList = [5, 10, 15, 20, 50, 75, 100]\n",
    "# argList = [5,100]\n",
    "XTrain = Xpca\n",
    "YTrain = Y\n",
    "\n",
    "bestRfrModel = None\n",
    "bestRMSE = float('inf')\n",
    "bestVal = -1\n",
    "\n",
    "trainRMSEList = list()\n",
    "testRMSEList = list()\n",
    "\n",
    "for val in argList:\n",
    "    arg = [val, None, \"auto\"]\n",
    "    print(\"\\nArg: \",arg)\n",
    "\n",
    "    rfrModel = getModel(modelName, arg)\n",
    "    rfrModel.fit(XTrain, YTrain)\n",
    "    prediction = rfrModel.predict(XTrain)\n",
    "\n",
    "    trainMse = math.sqrt(mean_squared_error(YTrain, prediction))\n",
    "    endTime = time.time()\n",
    "\n",
    "    if trainMse < bestRMSE:\n",
    "        bestRMSE = trainMse\n",
    "        bestRfrModel = rfrModel\n",
    "        bestVal = val\n",
    "    \n",
    "    print(\"\\tTRAINING\")\n",
    "    print(trainMse)\n",
    "    print(endTime-startTime)\n",
    "    \n",
    "    testPrediction = rfrModel.predict(XTest)\n",
    "    testMSE = math.sqrt(mean_squared_error(YTest, testPrediction))\n",
    "    \n",
    "    print(\"\\tTESTING\")\n",
    "    print(testPrediction)\n",
    "    print(testMSE)\n",
    "    \n",
    "    trainRMSEList.append(trainMse)\n",
    "    testRMSEList.append(testMSE)\n",
    "    \n",
    "#     if testMSE < bestRMSE:\n",
    "#         bestRMSE = testMSE\n",
    "#         bestRfrModel = rfrModel\n",
    "#         bestVal = val\n",
    "        \n",
    "print(\"\\nBest RMSE: \",bestRMSE)\n",
    "print(\"\\nBest Val: \",bestVal)"
   ]
  },
  {
   "cell_type": "code",
   "execution_count": 95,
   "metadata": {},
   "outputs": [
    {
     "name": "stdout",
     "output_type": "stream",
     "text": [
      "[48394, 12651, 100844]\n",
      "[ 6.22414286  6.43883333  6.002     ]\n",
      "0.722730635588\n"
     ]
    }
   ],
   "source": [
    "testPrediction = bestRfrModel.predict(XTest)\n",
    "testMSE = math.sqrt(mean_squared_error(YTest, testPrediction))\n",
    "print(ZTest)\n",
    "print(testPrediction)\n",
    "print(testMSE)"
   ]
  },
  {
   "cell_type": "code",
   "execution_count": 100,
   "metadata": {},
   "outputs": [
    {
     "data": {
      "image/png": "[encoded data removed]",
      "text/plain": [
       "<matplotlib.figure.Figure at 0x132a19910>"
      ]
     },
     "metadata": {},
     "output_type": "display_data"
    }
   ],
   "source": [
    "import matplotlib.pyplot as plt\n",
    "\n",
    "plt.plot(argList, trainRMSEList, label=\"Train\")\n",
    "plt.plot(argList, testRMSEList, label=\"Test\")\n",
    "plt.legend()\n",
    "plt.xlabel(\"Number of trees in the forest\")\n",
    "plt.ylabel(\"RMSE\")\n",
    "plt.title(\"Hyperparameter Optimization for RandomForestRegressor\")\n",
    "plt.show()"
   ]
  },
  {
   "cell_type": "markdown",
   "metadata": {},
   "source": []
  },
  {
   "cell_type": "markdown",
   "metadata": {},
   "source": [
    "## QUESTION 13"
   ]
  },
  {
   "cell_type": "code",
   "execution_count": 22,
   "metadata": {},
   "outputs": [],
   "source": [
    "# print(gMovieNodes)"
   ]
  },
  {
   "cell_type": "code",
   "execution_count": 23,
   "metadata": {},
   "outputs": [
    {
     "name": "stdout",
     "output_type": "stream",
     "text": [
      "14496\n",
      "Cruise, Tom\n",
      "48394\n",
      "Mission: Impossible - Rogue Nation (2015)\n",
      "Sex, Drugs & Religion (2010)\n",
      "Going Clear: Scientology and the Prison of Belief (2015)\n",
      "Days of Thunder (1990)\n",
      "Mission: Impossible Ghost Protocol Special Feature - Soaring in Dubai (2011)\n",
      "Der Geist des Geldes (2007)\n",
      "Mission: Impossible - Rogue Nation (2015)\n",
      "Edge of Tomorrow (2014)\n",
      "Born on the Fourth of July (1989)\n",
      "Junket Whore (1998)\n",
      "Mission: Impossible - Ghost Protocol (2011)\n",
      "Rock of Ages (2012)\n",
      "Legend (1985)\n",
      "Taps (1981)\n",
      "The Making of 'Born on the Fourth of July' (1989)\n",
      "Magnolia (1999)\n",
      "A Few Good Men (1992)\n",
      "Winning: The Racing Life of Paul Newman (2015)\n",
      "The Color of Money (1986)\n",
      "Risky Business (1983)\n",
      "The Firm (1993)\n",
      "Room 237 (2012/I)\n",
      "Minority Report (2002)\n",
      "Jack Reacher (2012)\n",
      "Lions for Lambs (2007)\n",
      "Oblivion (2013/I)\n",
      "Cocktail (1988)\n",
      "Close Up (2012)\n",
      "Stanley Kubrick: A Life in Pictures (2001)\n",
      "Tropic Thunder (2008)\n",
      "Losin' It (1983)\n",
      "Knight and Day (2010)\n",
      "Austin Powers in Goldmember (2002)\n",
      "Mena (2017)\n",
      "A Tribute to J.J. Abrams (2013)\n",
      "Rain Man (1988)\n",
      "Boffo! Tinseltown's Bombs and Blockbusters (2006)\n",
      "Jerry Maguire (1996)\n",
      "August (2008)\n",
      "Religulous (2008)\n",
      "The Last Samurai (2003)\n",
      "Vanilla Sky (2001)\n",
      "All the Right Moves (1983)\n",
      "Mission: Impossible (1996)\n",
      "El Presidente (????)\n",
      "Untitled Les Grossman Project (????)\n",
      "Far and Away (1992)\n",
      "Eyes Wide Shut (1999)\n",
      "Top Gun (1986)\n",
      "Collateral (2004)\n",
      "Endless Love (1981)\n",
      "The Outsiders (1983)\n",
      "Valkyrie (2008)\n",
      "Go Like Hell (????)\n",
      "Jack Reacher: Never Go Back (????)\n",
      "Yukikaze (????)\n",
      "War of the Worlds (2005)\n",
      "Space Station 3D (2002)\n",
      "Don't Tell My Booker!!! (2007)\n",
      "Interview with the Vampire: The Vampire Chronicles (1994)\n",
      "Mission: Impossible II (2000)\n",
      "Mission: Impossible III (2006)\n",
      "Top Gun 2 (????)\n",
      "The Queen (2006)\n",
      "Anthony Milton\n",
      "Atkins, Lasco\n",
      "Awasti, Raj\n",
      "Baldwin, Alec\n",
      "Banks, Richard (VII)\n",
      "Barber, Nigel\n",
      "Bracq, Alexander\n",
      "Coulston, Tom\n",
      "Cronin, Sean (I)\n",
      "Cruise, Tom\n",
      "Cuffaro, Gioacchino Jim\n",
      "Donald, Nick\n",
      "Hamonde, Walles\n",
      "Hanna, Salem\n",
      "Harland, Daniel\n",
      "Harris, Sean (I)\n",
      "Hathaway, Alexander\n",
      "Hayward, Justin (V)\n",
      "Howard, Philip (VI)\n",
      "Hultén, Jens\n",
      "Ikhile, Osy\n",
      "Jermaine, Vauxhall\n",
      "Kalhan, Rajesh\n",
      "Kerekes, Attila G.\n",
      "Khoroshko, Denis\n",
      "Lawrence, Bruce\n",
      "Leon Martinez, Jorge\n",
      "Lloyd, Wesley\n",
      "Mayger, Martyn\n",
      "McBurney, Simon\n",
      "McDade, Stephen\n",
      "Meads, Pete\n",
      "Newnham, Shaun\n",
      "Pegg, Simon\n",
      "Radia, Sagar\n",
      "Rajpal, Ricky\n",
      "Renner, Jeremy\n",
      "Rhames, Ving\n",
      "Robinson, David G.\n",
      "Ryder, Mark (VI)\n",
      "Sharma, Atul (V)\n",
      "Stanford, Peter (III)\n",
      "Stegemann, Wolfgang\n",
      "Weber Brown, James\n",
      "Webster, Glenn (I)\n",
      "Zaruba, Miroslav\n",
      "Bernardeschi, Laura (I)\n",
      "Bolton, Sal (I)\n",
      "Buchanan, Jill (II)\n",
      "Cooper, Pamela Betsy\n",
      "Greasley, Claire\n",
      "Gultniece, Guna\n",
      "Harrison, Noni\n",
      "Horvath, Kornelia\n",
      "Jaworska, Mariola\n",
      "Liebman, Simone (I)\n",
      "Nagai, Shina Shihoko\n",
      "Olivo, America\n",
      "Stocker, Stella\n",
      "Tearle, Georgie-May\n",
      "Zarubova, Tatiana\n",
      "Zhang, Jingchu\n"
     ]
    }
   ],
   "source": [
    "print(actorMap[\"Cruise, Tom\"])\n",
    "print(actorIDMap[14496])\n",
    "print(movieMap[\"Mission: Impossible - Rogue Nation (2015)\"])\n",
    "print(movieIDMap[48394])\n",
    "for m in actorMovies[14496]:\n",
    "    print(movieIDMap[m])\n",
    "for a in movieActors[48394]:\n",
    "    print(actorIDMap[a])\n",
    "\n"
   ]
  },
  {
   "cell_type": "code",
   "execution_count": 24,
   "metadata": {},
   "outputs": [
    {
     "name": "stdout",
     "output_type": "stream",
     "text": [
      "111280\n",
      "Watson, Emma (II)\n",
      "142925\n",
      "Harry Potter and the Prisoner of Azkaban (2004)\n",
      "This Is the End (2013)\n",
      "Harry Potter and the Sorcerer's Stone (2001)\n",
      "Harry Potter and the Chamber of Secrets (2002)\n",
      "Harry Potter: Hogwarts Challenge (2007)\n",
      "The Perks of Being a Wallflower (2012)\n",
      "Noah (2014)\n",
      "Beauty and the Beast (2017)\n",
      "The Tale of Despereaux (2008)\n",
      "Harry Potter and the Order of the Phoenix (2007)\n",
      "Harry Potter and the Deathly Hallows: Part 1 (2010)\n",
      "Creating the World of Harry Potter, Part 4: Sound and Music (2010)\n",
      "The Bling Ring (2013)\n",
      "Harry Potter and the Forbidden Journey (2010)\n",
      "Lego Harry Potter: Years 1-4 (2010)\n",
      "Harry Potter and the Prisoner of Azkaban (2004)\n",
      "Harry Potter and the Half-Blood Prince (2009)\n",
      "Struggle to the Light (2014)\n",
      "Harry Potter and the Escape from Gringotts (2014)\n",
      "Regression (2015)\n",
      "My Week with Marilyn (2011)\n",
      "Harry Potter and the Goblet of Fire (2005)\n",
      "Colonia (2016)\n",
      "Harry Potter and the Deathly Hallows: Part 2 (2011)\n",
      "Queen of the Tearling (????)\n",
      "While We're Young (????)\n",
      "Bradley, David (IV)\n",
      "Chillin, Gregg\n",
      "Coltrane, Robbie\n",
      "Corduner, Allan\n",
      "Davis, Warwick (I)\n",
      "Enoch, Alfred\n",
      "Felton, Tom\n",
      "Fry, Stephen (I)\n",
      "Gambon, Michael\n",
      "Gardner, Jimmy (I)\n",
      "Glover, Jamie (I)\n",
      "Goodman-Hill, Tom\n",
      "Griffiths, Richard (I)\n",
      "Grint, Rupert\n",
      "Hardy, Robert (I)\n",
      "Henry, Lenny\n",
      "Herdman, Josh\n",
      "Ingleby, Lee\n",
      "Kydd, Jonathan\n",
      "Lewis, Matthew (III)\n",
      "Macleod, Lewis\n",
      "Murray, Devon (I)\n",
      "Oldman, Gary\n",
      "Phelps, James (I)\n",
      "Phelps, Oliver\n",
      "Radcliffe, Daniel\n",
      "Rawlins, Adrian\n",
      "Rickman, Alan\n",
      "Robb, David (I)\n",
      "Sopp, Adam\n",
      "Spall, Timothy\n",
      "Tavaré, Jim\n",
      "Thewlis, David\n",
      "Webb, Bronson\n",
      "Williams, Mark (I)\n",
      "Christie, Julie (I)\n",
      "Ferris, Pam\n",
      "French, Dawn\n",
      "Karpf, Ève\n",
      "McDonald, Naomi\n",
      "Shaw, Fiona\n",
      "Smith, Maggie (I)\n",
      "Somerville, Geraldine\n",
      "Thompson, Emma (I)\n",
      "Walters, Julie (I)\n",
      "Watson, Emma (II)\n",
      "Wright, Bonnie (I)\n"
     ]
    }
   ],
   "source": [
    "print(actorMap[\"Watson, Emma (II)\"])\n",
    "print(actorIDMap[111280])\n",
    "print(movieMap[\"Harry Potter and the Prisoner of Azkaban (2004)\"])\n",
    "print(movieIDMap[142925])\n",
    "for m in actorMovies[111280]:\n",
    "    print(movieIDMap[m])\n",
    "for a in movieActors[142925]:\n",
    "    print(actorIDMap[a])\n",
    "\n"
   ]
  },
  {
   "cell_type": "code",
   "execution_count": 22,
   "metadata": {},
   "outputs": [],
   "source": [
    "MACTORS = \"movieActors\"\n",
    "# for mId in gMovieNodes:\n",
    "#     gMovieNodes[mId][MACTORS] = set(movieActors[int(mId)])\n",
    "\n",
    "testMovieActors = list()\n",
    "for mId in testMovieRatingMap:\n",
    "    testMovieRatingMap[mId][MACTORS] = set(movieActors[int(mId)])\n",
    "    testMovieActors.extend(testMovieRatingMap[mId][MACTORS])\n",
    "testMovieActors = list(set(testMovieActors))"
   ]
  },
  {
   "cell_type": "code",
   "execution_count": 23,
   "metadata": {},
   "outputs": [],
   "source": [
    "MACTORS = \"movieActors\"\n",
    "\n",
    "trainMovieActors = list()\n",
    "for mId in trainMovieRatingMap:\n",
    "    trainMovieRatingMap[mId][MACTORS] = set(movieActors[int(mId)])\n",
    "    trainMovieActors.extend(trainMovieRatingMap[mId][MACTORS])\n",
    "trainMovieActors = list(set(trainMovieActors))"
   ]
  },
  {
   "cell_type": "code",
   "execution_count": 24,
   "metadata": {},
   "outputs": [],
   "source": [
    "testMovieActorMovies = list()\n",
    "for aId in testMovieActors:\n",
    "    testMovieActorMovies.extend(actorMovies[aId])\n",
    "testMovieActorMovies = list(set(testMovieActorMovies))"
   ]
  },
  {
   "cell_type": "code",
   "execution_count": 25,
   "metadata": {},
   "outputs": [],
   "source": [
    "trainMovieActorMovies = list()\n",
    "for aId in trainMovieActors:\n",
    "    trainMovieActorMovies.extend(actorMovies[aId])\n",
    "trainMovieActorMovies = list(set(trainMovieActorMovies))"
   ]
  },
  {
   "cell_type": "code",
   "execution_count": 26,
   "metadata": {},
   "outputs": [
    {
     "name": "stdout",
     "output_type": "stream",
     "text": [
      "149\n",
      "3155\n"
     ]
    }
   ],
   "source": [
    "# print(testMovieActors)\n",
    "print(len(testMovieActors))\n",
    "# print(testMovieActorMovies)\n",
    "print(len(testMovieActorMovies))\n",
    "# print(max(testMovieActorMovies))"
   ]
  },
  {
   "cell_type": "code",
   "execution_count": 27,
   "metadata": {},
   "outputs": [
    {
     "name": "stdout",
     "output_type": "stream",
     "text": [
      "51274\n",
      "366529\n"
     ]
    }
   ],
   "source": [
    "# print(testMovieActors)\n",
    "print(len(trainMovieActors))\n",
    "# print(testMovieActorMovies)\n",
    "print(len(trainMovieActorMovies))\n",
    "# print(max(testMovieActorMovies))"
   ]
  },
  {
   "cell_type": "code",
   "execution_count": 28,
   "metadata": {},
   "outputs": [],
   "source": [
    "# gMovieNodes = dict()\n",
    "# for mId in testMovieActorMovies:\n",
    "#     mName = movieIDMap[mId]\n",
    "#     if mName in movieRatingMap2:\n",
    "#         gMovieNodes[mId] = dict()\n",
    "# gMovieNodes = {k: movieRatingMap[2136] for k in testMovieActorMovies}"
   ]
  },
  {
   "cell_type": "code",
   "execution_count": 29,
   "metadata": {},
   "outputs": [
    {
     "name": "stdout",
     "output_type": "stream",
     "text": [
      "2313\n",
      "3155\n"
     ]
    },
    {
     "name": "stderr",
     "output_type": "stream",
     "text": [
      "/Users/rahul/virtualenvs/titleanalysis/lib/python2.7/site-packages/ipykernel_launcher.py:4: UnicodeWarning: Unicode equal comparison failed to convert both arguments to Unicode - interpreting them as being unequal\n",
      "  after removing the cwd from sys.path.\n"
     ]
    }
   ],
   "source": [
    "testMovieActorMovieNames = list()\n",
    "for mId in testMovieActorMovies:\n",
    "    mName = movieIDMap[mId]\n",
    "    if mName in movieRatingMap2:\n",
    "        testMovieActorMovieNames.append(mName)\n",
    "testMovieActorMovieNames = list(set(testMovieActorMovieNames))\n",
    "print(len(testMovieActorMovieNames))\n",
    "print(len(testMovieActorMovies))"
   ]
  },
  {
   "cell_type": "code",
   "execution_count": 30,
   "metadata": {},
   "outputs": [
    {
     "name": "stderr",
     "output_type": "stream",
     "text": [
      "/Users/rahul/virtualenvs/titleanalysis/lib/python2.7/site-packages/ipykernel_launcher.py:4: UnicodeWarning: Unicode equal comparison failed to convert both arguments to Unicode - interpreting them as being unequal\n",
      "  after removing the cwd from sys.path.\n"
     ]
    },
    {
     "name": "stdout",
     "output_type": "stream",
     "text": [
      "172772\n",
      "366529\n"
     ]
    }
   ],
   "source": [
    "trainMovieActorMovieNames = list()\n",
    "for mId in trainMovieActorMovies:\n",
    "    mName = movieIDMap[mId]\n",
    "    if mName in movieRatingMap2:\n",
    "        trainMovieActorMovieNames.append(mName)\n",
    "trainMovieActorMovieNames = list(set(trainMovieActorMovieNames))\n",
    "print(len(trainMovieActorMovieNames))\n",
    "print(len(trainMovieActorMovies))"
   ]
  },
  {
   "cell_type": "code",
   "execution_count": 31,
   "metadata": {
    "scrolled": false
   },
   "outputs": [],
   "source": [
    "# print(movieActors[1])\n",
    "# print(movieMap[\"Mission: Impossible Ghost Protocol Special Feature - Soaring in Dubai (2011)\"])\n",
    "# print(movieIDMap[211691])\n",
    "# for a in movieActors[48395]:\n",
    "#     print actorIDMap[a]\n",
    "# # for m in actorMovies[111284]:\n",
    "# #     print movieIDMap[m]"
   ]
  },
  {
   "cell_type": "code",
   "execution_count": 32,
   "metadata": {},
   "outputs": [
    {
     "name": "stdout",
     "output_type": "stream",
     "text": [
      "set([1, 2, 3, 4, 5, 6, 7, 8, 9, 10, 11, 12])\n",
      "113110\n"
     ]
    }
   ],
   "source": [
    "print(actorMovies[1])\n",
    "print(len(actorMovies))"
   ]
  },
  {
   "cell_type": "code",
   "execution_count": 33,
   "metadata": {},
   "outputs": [
    {
     "name": "stderr",
     "output_type": "stream",
     "text": [
      "/Users/rahul/virtualenvs/titleanalysis/lib/python2.7/site-packages/ipykernel_launcher.py:11: UnicodeWarning: Unicode equal comparison failed to convert both arguments to Unicode - interpreting them as being unequal\n",
      "  # This is added back by InteractiveShellApp.init_path()\n"
     ]
    }
   ],
   "source": [
    "gActorNodes = dict()\n",
    "ARATINGS = \"actorRatings\"\n",
    "AWEIGHT = \"actorWeight\" \n",
    "\n",
    "for aId in testMovieActors:\n",
    "    if aId not in gActorNodes:\n",
    "        gActorNodes[aId] = dict()\n",
    "        gActorNodes[aId][ARATINGS] = list()\n",
    "    for mId in actorMovies[aId]:\n",
    "        mName = movieIDMap[mId]\n",
    "        if mName in movieRatingMap2:\n",
    "            gActorNodes[aId][ARATINGS].append(movieRatingMap2[mName])"
   ]
  },
  {
   "cell_type": "code",
   "execution_count": 34,
   "metadata": {},
   "outputs": [
    {
     "name": "stdout",
     "output_type": "stream",
     "text": [
      "149\n",
      "149\n"
     ]
    }
   ],
   "source": [
    "print(len(testMovieActors))\n",
    "print(len(gActorNodes))"
   ]
  },
  {
   "cell_type": "code",
   "execution_count": 35,
   "metadata": {},
   "outputs": [
    {
     "name": "stderr",
     "output_type": "stream",
     "text": [
      "/Users/rahul/virtualenvs/titleanalysis/lib/python2.7/site-packages/ipykernel_launcher.py:7: UnicodeWarning: Unicode equal comparison failed to convert both arguments to Unicode - interpreting them as being unequal\n",
      "  import sys\n"
     ]
    }
   ],
   "source": [
    "for aId in trainMovieActors:\n",
    "    if aId not in gActorNodes:\n",
    "        gActorNodes[aId] = dict()\n",
    "        gActorNodes[aId][ARATINGS] = list()\n",
    "    for mId in actorMovies[aId]:\n",
    "        mName = movieIDMap[mId]\n",
    "        if mName in movieRatingMap2:\n",
    "            gActorNodes[aId][ARATINGS].append(movieRatingMap2[mName])"
   ]
  },
  {
   "cell_type": "code",
   "execution_count": 36,
   "metadata": {},
   "outputs": [
    {
     "name": "stdout",
     "output_type": "stream",
     "text": [
      "51274\n",
      "51338\n"
     ]
    }
   ],
   "source": [
    "print(len(trainMovieActors))\n",
    "print(len(gActorNodes))"
   ]
  },
  {
   "cell_type": "code",
   "execution_count": 37,
   "metadata": {},
   "outputs": [],
   "source": [
    "for aId in gActorNodes:\n",
    "    if(len(gActorNodes[aId][ARATINGS]) != 0 ):\n",
    "        gActorNodes[aId][AWEIGHT] = sum(gActorNodes[aId][ARATINGS])/len(gActorNodes[aId][ARATINGS])\n",
    "    else:\n",
    "        gActorNodes[aId][AWEIGHT] = -1"
   ]
  },
  {
   "cell_type": "code",
   "execution_count": 72,
   "metadata": {},
   "outputs": [
    {
     "name": "stdout",
     "output_type": "stream",
     "text": [
      "(u'Castro, Katherine (IV)', 9.08)\n",
      "(u'McCormick, Graeme', 8.8)\n",
      "(u'Yoshimizu, Takahiro', 8.72)\n",
      "(u'Khonsari, Navid', 8.672727272727274)\n",
      "(u'Sudy, Trista Caruso', 8.66)\n"
     ]
    }
   ],
   "source": [
    "# for aId in gActorNodes:\n",
    "# topActorNodes = sorted(gActorNodes.items(), key=lambda x: x[1])\n",
    "topActorNodes = dict()\n",
    "for k in gActorNodes:\n",
    "    topActorNodes[k] = gActorNodes[k][AWEIGHT]\n",
    "    \n",
    "topActorNodes = sorted(topActorNodes.items(), key=lambda (k,v): v, reverse=True)\n",
    "\n",
    "for i in range(0,5):\n",
    "    aName = actorIDMap[topActorNodes[i][0]]\n",
    "    print(aName, topActorNodes[i][1])\n",
    "\n",
    "# topActorNodes = {k:gActorNodes[k] for k in sorted(gActorNodes[k][AWEIGHT])}"
   ]
  },
  {
   "cell_type": "code",
   "execution_count": 38,
   "metadata": {},
   "outputs": [
    {
     "name": "stdout",
     "output_type": "stream",
     "text": [
      "3\n"
     ]
    }
   ],
   "source": [
    "\n",
    "counter=0\n",
    "for aId in gActorNodes:\n",
    "#     print(aId, gActorNodes[aId][AWEIGHT])\n",
    "    if gActorNodes[aId][AWEIGHT] == -1:\n",
    "        counter+=1\n",
    "print(counter)\n",
    "        "
   ]
  },
  {
   "cell_type": "code",
   "execution_count": 40,
   "metadata": {},
   "outputs": [
    {
     "name": "stdout",
     "output_type": "stream",
     "text": [
      "48394\n",
      "12651\n",
      "100844\n",
      "[6.499967100996352, 6.4964354505643715, 6.854869735343284]\n",
      "[7.4, 6.6, 6.4]\n",
      "0.585289475764\n"
     ]
    }
   ],
   "source": [
    "import math\n",
    "from sklearn.metrics import mean_squared_error\n",
    "\n",
    "# rmseList = list()\n",
    "yPred = list()\n",
    "yAct = list()\n",
    "for mId in testMovieRatingMap:\n",
    "    mPredRatingList = list()\n",
    "    for aId in testMovieRatingMap[mId][MACTORS]:\n",
    "        if gActorNodes[aId][AWEIGHT] != -1:\n",
    "            mPredRatingList.append(gActorNodes[aId][AWEIGHT])\n",
    "    mPredRating = sum(mPredRatingList)/len(mPredRatingList)\n",
    "    print(mId)\n",
    "    yPred.append(mPredRating)\n",
    "    yAct.append(testMovieRatingMap[mId][MRATING])\n",
    "print(yPred)\n",
    "print(yAct)\n",
    "\n",
    "testRMSE = math.sqrt(mean_squared_error(yAct, yPred))\n",
    "\n",
    "print(testRMSE)\n",
    "\n",
    "    \n",
    "    "
   ]
  },
  {
   "cell_type": "code",
   "execution_count": 41,
   "metadata": {},
   "outputs": [
    {
     "name": "stdout",
     "output_type": "stream",
     "text": [
      "[6.425836782390249, 7.32625, 5.32589889176256, 6.517661814171492, 6.18760833890694, 6.441776315789474, 6.093206694271911, 6.136772294643527, 6.460975609756098, 6.357297564060717]\n",
      "[5.6, 8.5, 7.1, 6.2, 6.6, 6.2, 4.7, 7.6, 7.2, 7.1]\n",
      "1.11726873481\n"
     ]
    }
   ],
   "source": [
    "# rmseList = list()\n",
    "yPredTrain = list()\n",
    "yActTrain = list()\n",
    "for mId in trainMovieRatingMap:\n",
    "    mPredRatingList = list()\n",
    "    for aId in trainMovieRatingMap[mId][MACTORS]:\n",
    "        if gActorNodes[aId][AWEIGHT] != -1:\n",
    "            mPredRatingList.append(gActorNodes[aId][AWEIGHT])\n",
    "    mPredRating = sum(mPredRatingList)/len(mPredRatingList)\n",
    "#     print(mId)\n",
    "    yPredTrain.append(mPredRating)\n",
    "    yActTrain.append(trainMovieRatingMap[mId][MRATING])\n",
    "print(yPredTrain[0:10])\n",
    "print(yActTrain[0:10])\n",
    "\n",
    "trainRMSE = math.sqrt(mean_squared_error(yActTrain, yPredTrain))\n",
    "\n",
    "print(trainRMSE)\n",
    "\n",
    "    \n",
    "    "
   ]
  },
  {
   "cell_type": "markdown",
   "metadata": {},
   "source": [
    "### QUESTION 4-5"
   ]
  },
  {
   "cell_type": "code",
   "execution_count": 56,
   "metadata": {},
   "outputs": [],
   "source": [
    "aList = [\"Cruise, Tom\", \"Watson, Emma (II)\", \"Clooney, George\", \"Hanks, Tom\",\\\n",
    "         \"Johnson, Dwayne (I)\", \"Depp, Johnny\", \"Smith, Will (I)\", \"Streep, Meryl\",\\\n",
    "         \"DiCaprio, Leonardo\", \"Pitt, Brad\",\\\n",
    "         \"Flowers, Bess\", \"Tatasciore, Fred\", \"Harris, Sam (II)\", \"Blum, Steve (IX)\",\\\n",
    "         \"Miller, Harold (I)\", \"Jeremy, Ron\", \"Phelps, Lee (I)\", \"Lowenthal, Yuri\",\\\n",
    "         \"Downes, Robin Atkin\", \"O'Connor, Frank (I)\"]"
   ]
  },
  {
   "cell_type": "code",
   "execution_count": 107,
   "metadata": {},
   "outputs": [
    {
     "name": "stdout",
     "output_type": "stream",
     "text": [
      "('Cruise, Tom', 63)\n",
      "('Watson, Emma (II)', 25)\n",
      "('Clooney, George', 67)\n",
      "('Hanks, Tom', 79)\n",
      "('Johnson, Dwayne (I)', 78)\n",
      "('Depp, Johnny', 98)\n",
      "('Smith, Will (I)', 49)\n",
      "('Streep, Meryl', 97)\n",
      "('DiCaprio, Leonardo', 49)\n",
      "('Pitt, Brad', 71)\n",
      "('Flowers, Bess', 828)\n",
      "('Tatasciore, Fred', 353)\n",
      "('Harris, Sam (II)', 600)\n",
      "('Blum, Steve (IX)', 373)\n",
      "('Miller, Harold (I)', 561)\n",
      "('Jeremy, Ron', 637)\n",
      "('Phelps, Lee (I)', 647)\n",
      "('Lowenthal, Yuri', 317)\n",
      "('Downes, Robin Atkin', 267)\n",
      "(\"O'Connor, Frank (I)\", 623)\n"
     ]
    }
   ],
   "source": [
    "for actor in aList:\n",
    "    nM = len(actorMovies[actorMap[actor]])\n",
    "    print(actor, nM)"
   ]
  },
  {
   "cell_type": "code",
   "execution_count": null,
   "metadata": {},
   "outputs": [],
   "source": []
  }
 ],
 "metadata": {
  "kernelspec": {
   "display_name": "Python 2",
   "language": "python",
   "name": "python2"
  },
  "language_info": {
   "codemirror_mode": {
    "name": "ipython",
    "version": 2
   },
   "file_extension": ".py",
   "mimetype": "text/x-python",
   "name": "python",
   "nbconvert_exporter": "python",
   "pygments_lexer": "ipython2",
   "version": "2.7.10"
  }
 },
 "nbformat": 4,
 "nbformat_minor": 2
}
